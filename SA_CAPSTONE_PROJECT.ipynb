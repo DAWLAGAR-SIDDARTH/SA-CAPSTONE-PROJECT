{
  "nbformat": 4,
  "nbformat_minor": 0,
  "metadata": {
    "colab": {
      "provenance": [],
      "mount_file_id": "1z8uN-vGdAF8nmq_-qnPo6y9tZ4QR4t-p",
      "authorship_tag": "ABX9TyODZxEP+qzjZ1rw1XkdTy+P",
      "include_colab_link": true
    },
    "kernelspec": {
      "name": "python3",
      "display_name": "Python 3"
    },
    "language_info": {
      "name": "python"
    }
  },
  "cells": [
    {
      "cell_type": "markdown",
      "metadata": {
        "id": "view-in-github",
        "colab_type": "text"
      },
      "source": [
        "<a href=\"https://colab.research.google.com/github/DAWLAGAR-SIDDARTH/SA-CAPSTONE-PROJECT/blob/main/SA_CAPSTONE_PROJECT.ipynb\" target=\"_parent\"><img src=\"https://colab.research.google.com/assets/colab-badge.svg\" alt=\"Open In Colab\"/></a>"
      ]
    },
    {
      "cell_type": "markdown",
      "source": [
        "# Dynamic Pricing for Urban Parking Lots using Pathway\n",
        "Capstone Project – Summer Analytics 2025\n",
        "\n",
        "## Background & Motivation\n",
        "Urban parking spaces are a limited and highly demanded resource. Static pricing causes underutilization or overcrowding.\n",
        "\n",
        "We simulate a real-time pricing system using:\n",
        "- Real-time streaming with Pathway\n",
        "- Demand-based pricing logic (Model 2)\n",
        "- Basic economic factors like queue length, traffic, vehicle type, etc.\n"
      ],
      "metadata": {
        "id": "EGCtvo_HvguH"
      }
    },
    {
      "cell_type": "code",
      "source": [
        "import pandas as pd\n",
        "import numpy as np\n",
        "import pathway as pw\n",
        "import os\n",
        "import json\n",
        "import time"
      ],
      "metadata": {
        "id": "H2mQkyC5u6G3"
      },
      "execution_count": null,
      "outputs": []
    },
    {
      "cell_type": "code",
      "source": [
        "df = pd.read_csv(\"dataset.csv\")\n",
        "\n",
        "# Convert timestamp\n",
        "df[\"timestamp\"] = pd.to_datetime(df[\"LastUpdatedDate\"] + \" \" + df[\"LastUpdatedTime\"], dayfirst=True)\n",
        "df[\"timestamp\"] = df[\"timestamp\"].astype(str)\n",
        "\n",
        "# Add lot ID\n",
        "df[\"lot_id\"] = df[\"SystemCodeNumber\"]\n",
        "\n",
        "# Drop incomplete rows\n",
        "df.dropna(subset=[\"Occupancy\", \"Capacity\"], inplace=True)\n",
        "\n",
        "# Match schema order\n",
        "df_pathway = df[[\n",
        "    \"lot_id\", \"timestamp\", \"Occupancy\", \"Capacity\", \"QueueLength\",\n",
        "    \"TrafficConditionNearby\", \"IsSpecialDay\", \"VehicleType\",\n",
        "    \"Latitude\", \"Longitude\"\n",
        "]].copy().reset_index(drop=True)"
      ],
      "metadata": {
        "id": "R-vecxIrvzzV"
      },
      "execution_count": null,
      "outputs": []
    },
    {
      "cell_type": "code",
      "source": [
        "class ParkingInput(pw.Schema):\n",
        "    lot_id: str\n",
        "    timestamp: str\n",
        "    Occupancy: int\n",
        "    Capacity: int\n",
        "    QueueLength: int\n",
        "    TrafficConditionNearby: str\n",
        "    IsSpecialDay: int\n",
        "    VehicleType: str\n",
        "    Latitude: float\n",
        "    Longitude: float\n"
      ],
      "metadata": {
        "id": "c3k3-995xzst"
      },
      "execution_count": null,
      "outputs": []
    },
    {
      "cell_type": "code",
      "source": [
        "@pw.udf\n",
        "def compute_price(\n",
        "    Occupancy: int,\n",
        "    Capacity: int,\n",
        "    QueueLength: int,\n",
        "    TrafficConditionNearby: str,\n",
        "    IsSpecialDay: int,\n",
        "    VehicleType: str\n",
        ") -> float:\n",
        "    def map_traffic_level(traffic_str):\n",
        "        levels = {\"low\": 1, \"medium\": 2, \"high\": 3}\n",
        "        return levels.get(str(traffic_str).lower(), 2)\n",
        "\n",
        "    def get_vehicle_weight(vehicle_type):\n",
        "        weights = {\"car\": 1.0, \"bike\": 0.7, \"truck\": 1.5}\n",
        "        return weights.get(str(vehicle_type).lower(), 1.0)\n",
        "\n",
        "    traffic = map_traffic_level(TrafficConditionNearby)\n",
        "    vehicle_weight = get_vehicle_weight(VehicleType)\n",
        "\n",
        "    demand = (0.5 * (Occupancy / Capacity) +\n",
        "              0.3 * QueueLength -\n",
        "              0.2 * traffic +\n",
        "              0.1 * IsSpecialDay +\n",
        "              0.05 * vehicle_weight)\n",
        "\n",
        "    normalized = max(0, min(1, demand))\n",
        "    return round(10 * (1 + 0.2 * normalized), 2)\n"
      ],
      "metadata": {
        "id": "4soZ-Kp0vyZN"
      },
      "execution_count": null,
      "outputs": []
    },
    {
      "cell_type": "code",
      "source": [
        "# Ingest the DataFrame using Pathway\n",
        "stream = pw.debug.table_from_pandas(df_pathway, schema=ParkingInput)\n",
        "\n",
        "# Add computed price column\n",
        "pricing = stream.with_columns(\n",
        "    price=compute_price(\n",
        "        stream.Occupancy,\n",
        "        stream.Capacity,\n",
        "        stream.QueueLength,\n",
        "        stream.TrafficConditionNearby,\n",
        "        stream.IsSpecialDay,\n",
        "        stream.VehicleType\n",
        "    )\n",
        ")"
      ],
      "metadata": {
        "id": "HMGwPh00v4WN"
      },
      "execution_count": null,
      "outputs": []
    },
    {
      "cell_type": "code",
      "source": [
        "pw.io.csv.write(\n",
        "    pricing,\n",
        "    \"pricing_output.csv\"\n",
        ")"
      ],
      "metadata": {
        "id": "8_-UJgi8v_Xv"
      },
      "execution_count": null,
      "outputs": []
    },
    {
      "cell_type": "code",
      "source": [
        "pw.run()"
      ],
      "metadata": {
        "id": "Zkizn1eMzxr0"
      },
      "execution_count": null,
      "outputs": []
    },
    {
      "cell_type": "code",
      "source": [
        "import matplotlib.pyplot as plt\n",
        "\n",
        "# Load the price output CSV\n",
        "df_price = pd.read_csv(\"pricing_output.csv\")\n",
        "\n",
        "# Convert timestamp to datetime\n",
        "df_price[\"timestamp\"] = pd.to_datetime(df_price[\"timestamp\"])\n",
        "\n",
        "# Sort by time\n",
        "df_price = df_price.sort_values(\"timestamp\")\n",
        "\n",
        "# Plot price over time for a specific parking lot\n",
        "lot_id_to_plot = df_price[\"lot_id\"].unique()[0]  # or specify manually e.g. \"BHMBCCMKT01\"\n",
        "lot_df = df_price[df_price[\"lot_id\"] == lot_id_to_plot]\n",
        "\n",
        "plt.figure(figsize=(12, 6))\n",
        "plt.plot(lot_df[\"timestamp\"], lot_df[\"price\"], marker='o', linestyle='-')\n",
        "plt.title(f\"Price Trend for Parking Lot: {lot_id_to_plot}\")\n",
        "plt.xlabel(\"Time\")\n",
        "plt.ylabel(\"Price ($)\")\n",
        "plt.grid(True)\n",
        "plt.xticks(rotation=45)\n",
        "plt.tight_layout()\n",
        "plt.show()\n"
      ],
      "metadata": {
        "id": "sSAq85D_0Gpg"
      },
      "execution_count": null,
      "outputs": []
    },
    {
      "cell_type": "code",
      "source": [
        "\n",
        "from bokeh.plotting import figure, output_notebook, show\n",
        "from bokeh.models import ColumnDataSource\n",
        "from bokeh.layouts import column\n",
        "import pandas as pd\n",
        "import time\n",
        "import json\n",
        "import os\n",
        "\n",
        "output_notebook()\n",
        "\n",
        "source = ColumnDataSource(data=dict(x=[], y=[]))\n",
        "\n",
        "p = figure(x_axis_type='datetime', title=\"Real-Time Parking Prices\", width=800, height=400)\n",
        "p.line(x='x', y='y', source=source, line_width=2, color=\"blue\")\n",
        "\n",
        "handle = show(p, notebook_handle=True)\n",
        "\n",
        "# Simulate loading from output JSON\n",
        "while True:\n",
        "    if os.path.exists(\"pricing_output.json\"):\n",
        "        with open(\"pricing_output.json\", \"r\") as f:\n",
        "            lines = f.readlines()[-20:]\n",
        "            times, prices = [], []\n",
        "            for line in lines:\n",
        "                data = json.loads(line)\n",
        "                times.append(pd.to_datetime(data['timestamp']))\n",
        "                prices.append(data['price'])\n",
        "\n",
        "            source.data = dict(x=times, y=prices)\n",
        "            push_notebook(handle=handle)\n",
        "    time.sleep(1)\n",
        "# live map is not working because Google Colab doesn’t support push_notebook live updates"
      ],
      "metadata": {
        "id": "TBpc754TwUG1"
      },
      "execution_count": null,
      "outputs": []
    },
    {
      "cell_type": "markdown",
      "source": [
        "live map is not working because Google Colab doesn’t support push_notebook live updates"
      ],
      "metadata": {
        "id": "xOspGY933uS7"
      }
    },
    {
      "cell_type": "code",
      "source": [
        "#using alterntive matplotlib\n",
        "import pandas as pd\n",
        "import matplotlib.pyplot as plt\n",
        "from IPython.display import clear_output\n",
        "import time\n",
        "\n",
        "for _ in range(10):  # run for 10 seconds\n",
        "    clear_output(wait=True)\n",
        "\n",
        "    df = pd.read_csv(\"pricing_output.csv\")\n",
        "    df[\"timestamp\"] = pd.to_datetime(df[\"timestamp\"])\n",
        "    df = df.sort_values(\"timestamp\")\n",
        "\n",
        "    lot_id = df[\"lot_id\"].unique()[0]\n",
        "    lot_df = df[df[\"lot_id\"] == lot_id].tail(20)\n",
        "\n",
        "    plt.figure(figsize=(10, 4))\n",
        "    plt.plot(lot_df[\"timestamp\"], lot_df[\"price\"], marker=\"o\", color=\"blue\")\n",
        "    plt.title(f\"Live Pricing Plot - {lot_id}\")\n",
        "    plt.xlabel(\"Time\")\n",
        "    plt.ylabel(\"Price ($)\")\n",
        "    plt.xticks(rotation=45)\n",
        "    plt.grid(True)\n",
        "    plt.tight_layout()\n",
        "    plt.show()\n",
        "\n",
        "    time.sleep(1)\n"
      ],
      "metadata": {
        "id": "-FAqWtJN27xE"
      },
      "execution_count": null,
      "outputs": []
    },
    {
      "cell_type": "code",
      "source": [
        "from bokeh.plotting import figure, output_notebook, show\n",
        "from bokeh.models import ColumnDataSource\n",
        "from bokeh.io import push_notebook\n",
        "import pandas as pd\n",
        "import time\n",
        "import os\n",
        "\n",
        "output_notebook()\n",
        "\n",
        "# Initialize plot\n",
        "source = ColumnDataSource(data=dict(x=[], y=[]))\n",
        "\n",
        "p = figure(x_axis_type='datetime', title=\"Live Price Plot\", width=800, height=400)\n",
        "p.line(x='x', y='y', source=source, line_width=2, color=\"green\")\n",
        "\n",
        "handle = show(p, notebook_handle=True)\n",
        "\n",
        "# Start timer\n",
        "start = time.time()\n",
        "\n",
        "while time.time() - start < 10:\n",
        "    if not os.path.exists(\"pricing_output.csv\"):\n",
        "        print(\" pricing_output.csv not found\")\n",
        "        time.sleep(1)\n",
        "        continue\n",
        "\n",
        "    try:\n",
        "        df = pd.read_csv(\"pricing_output.csv\")\n",
        "        print(f\" Loaded {len(df)} rows\")\n",
        "        print(\"Columns:\", df.columns.tolist())\n",
        "\n",
        "        # Ensure timestamp is datetime\n",
        "        df[\"timestamp\"] = pd.to_datetime(df[\"timestamp\"], errors=\"coerce\")\n",
        "        df = df.dropna(subset=[\"timestamp\", \"price\"])\n",
        "        df = df.sort_values(\"timestamp\")\n",
        "\n",
        "        if df.empty:\n",
        "            print(\" Data is empty after cleaning\")\n",
        "            time.sleep(1)\n",
        "            continue\n",
        "\n",
        "        # Select first valid lot\n",
        "        lot_id = df[\"lot_id\"].unique()[0]\n",
        "        lot_df = df[df[\"lot_id\"] == lot_id].tail(20)\n",
        "\n",
        "        if lot_df.empty:\n",
        "            print(f\" No data for lot {lot_id}\")\n",
        "            time.sleep(1)\n",
        "            continue\n",
        "\n",
        "        # Show on chart\n",
        "        source.data = dict(x=lot_df[\"timestamp\"], y=lot_df[\"price\"])\n",
        "        push_notebook(handle=handle)\n",
        "        print(f\"Updated plot for lot: {lot_id}\")\n",
        "    except Exception as e:\n",
        "        print(\"Error while plotting:\", e)\n",
        "\n",
        "    time.sleep(1)\n",
        "#this runs for 10 seconds to avoid the infinite process"
      ],
      "metadata": {
        "id": "QjmvCFRY1CZ8"
      },
      "execution_count": null,
      "outputs": []
    },
    {
      "cell_type": "code",
      "source": [
        "from bokeh.plotting import figure, show, output_notebook\n",
        "from bokeh.models import ColumnDataSource\n",
        "import pandas as pd\n",
        "\n",
        "output_notebook()\n",
        "\n",
        "# Load CSV\n",
        "df = pd.read_csv(\"pricing_output.csv\")\n",
        "df[\"timestamp\"] = pd.to_datetime(df[\"timestamp\"])\n",
        "df = df.sort_values(\"timestamp\")\n",
        "\n",
        "# Optional: filter one lot\n",
        "lot_id = df[\"lot_id\"].unique()[0]\n",
        "lot_df = df[df[\"lot_id\"] == lot_id]\n",
        "\n",
        "# Prepare data\n",
        "source = ColumnDataSource(data={\n",
        "    \"x\": lot_df[\"timestamp\"],\n",
        "    \"y\": lot_df[\"price\"]\n",
        "})\n",
        "\n",
        "# Plot\n",
        "p = figure(x_axis_type='datetime', title=f\"Price Trend for {lot_id}\", width=800, height=400)\n",
        "p.line(\"x\", \"y\", source=source, line_width=2, color=\"green\")\n",
        "\n",
        "show(p)\n"
      ],
      "metadata": {
        "id": "jPVZLvnr0TrU"
      },
      "execution_count": null,
      "outputs": []
    },
    {
      "cell_type": "code",
      "source": [
        "from bokeh.plotting import figure, output_notebook, show\n",
        "from bokeh.models import ColumnDataSource\n",
        "\n",
        "output_notebook()\n",
        "\n",
        "lot_df = df[df[\"lot_id\"] == \"Others-CCCPS135a\"].sort_values(\"timestamp\").tail(50)\n",
        "\n",
        "source = ColumnDataSource(data={\n",
        "    \"x\": lot_df[\"timestamp\"],\n",
        "    \"y\": lot_df[\"price\"]\n",
        "})\n",
        "\n",
        "p = figure(x_axis_type='datetime', title=\"Final Price Snapshot\", width=800, height=400)\n",
        "p.line(\"x\", \"y\", source=source, line_width=2, color=\"green\")\n",
        "show(p)\n"
      ],
      "metadata": {
        "id": "8dTZXn6A1x0Q"
      },
      "execution_count": null,
      "outputs": []
    },
    {
      "cell_type": "markdown",
      "source": [
        "## Assumptions Made\n",
        "\n",
        "- Vehicle Type Weights: car = 1.0, bike = 0.7, truck = 1.5\n",
        "- Traffic Mapping: low = 1, medium = 2, high = 3\n",
        "- Price is normalized between 0.5x to 2x of base price ($10)\n",
        "- Demand is clipped between 0 and 1 for smooth pricing\n"
      ],
      "metadata": {
        "id": "BHJwAklJwBcN"
      }
    },
    {
      "cell_type": "code",
      "source": [],
      "metadata": {
        "id": "FcNl1OSfAMEP"
      },
      "execution_count": null,
      "outputs": []
    }
  ]
}